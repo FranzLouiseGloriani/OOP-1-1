{
  "nbformat": 4,
  "nbformat_minor": 0,
  "metadata": {
    "colab": {
      "name": "Python Classes and Objects.ipynb",
      "provenance": [],
      "collapsed_sections": [],
      "authorship_tag": "ABX9TyO7fdjkJ4RbsvevRR1QLXBo",
      "include_colab_link": true
    },
    "kernelspec": {
      "name": "python3",
      "display_name": "Python 3"
    },
    "language_info": {
      "name": "python"
    }
  },
  "cells": [
    {
      "cell_type": "markdown",
      "metadata": {
        "id": "view-in-github",
        "colab_type": "text"
      },
      "source": [
        "<a href=\"https://colab.research.google.com/github/FranzLouiseGloriani/OOP-1-1/blob/main/Python_Classes_and_Objects.ipynb\" target=\"_parent\"><img src=\"https://colab.research.google.com/assets/colab-badge.svg\" alt=\"Open In Colab\"/></a>"
      ]
    },
    {
      "cell_type": "markdown",
      "source": [
        "Class"
      ],
      "metadata": {
        "id": "TXHA2RUGyxya"
      }
    },
    {
      "cell_type": "code",
      "source": [
        "class MyClass:    #name of class\n",
        "  pass            #create a class without variable and methods"
      ],
      "metadata": {
        "id": "VQZVC5bryyw5"
      },
      "execution_count": 32,
      "outputs": []
    },
    {
      "cell_type": "code",
      "source": [
        "class MyClass:\n",
        "  def __init__(self, name, age):\n",
        "    self.name = name                #create a class with attributes\n",
        "    self.age = age\n",
        "\n",
        "  def display(self):\n",
        "    print(self.name, self.age)\n",
        "  \n",
        "person = MyClass(\"Franz Louise B. Gloriani\", 19)    #create an object name\n",
        "\n",
        "print(person.name)\n",
        "print(person.age)\n",
        "\n",
        "person.display()"
      ],
      "metadata": {
        "colab": {
          "base_uri": "https://localhost:8080/"
        },
        "id": "2XgA75l8zui5",
        "outputId": "d60ed686-892e-4789-9beb-7d03531f9474"
      },
      "execution_count": 50,
      "outputs": [
        {
          "output_type": "stream",
          "name": "stdout",
          "text": [
            "Franz Louise B. Gloriani\n",
            "19\n",
            "Franz Louise B. Gloriani 19\n"
          ]
        }
      ]
    },
    {
      "cell_type": "code",
      "source": [
        "#Application 1 - Write a Python program that computes for an area of rectangle: A = l x w\n",
        "\n",
        "class Rectangle:\n",
        "  def __init__(self,l,w):\n",
        "    self.l = l                      #attribute names\n",
        "    self.w = w\n",
        "\n",
        "  def Area(self):\n",
        "    print(self.l * self.w)\n",
        "\n",
        "rect = Rectangle(7,3)\n",
        "rect.Area()"
      ],
      "metadata": {
        "colab": {
          "base_uri": "https://localhost:8080/"
        },
        "id": "_CDl5hZX27fh",
        "outputId": "c628bc37-e396-49f0-9ce3-eaa9548d31a4"
      },
      "execution_count": 49,
      "outputs": [
        {
          "output_type": "stream",
          "name": "stdout",
          "text": [
            "21\n"
          ]
        }
      ]
    }
  ]
}