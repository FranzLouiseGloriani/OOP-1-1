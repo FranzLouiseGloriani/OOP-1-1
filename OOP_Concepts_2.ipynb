{
  "nbformat": 4,
  "nbformat_minor": 0,
  "metadata": {
    "colab": {
      "name": "OOP Concepts 2.ipynb",
      "provenance": [],
      "collapsed_sections": [],
      "authorship_tag": "ABX9TyNhcgZHjDM255ZKSREAlLbj",
      "include_colab_link": true
    },
    "kernelspec": {
      "name": "python3",
      "display_name": "Python 3"
    },
    "language_info": {
      "name": "python"
    }
  },
  "cells": [
    {
      "cell_type": "markdown",
      "metadata": {
        "id": "view-in-github",
        "colab_type": "text"
      },
      "source": [
        "<a href=\"https://colab.research.google.com/github/FranzLouiseGloriani/OOP-1-1/blob/main/OOP_Concepts_2.ipynb\" target=\"_parent\"><img src=\"https://colab.research.google.com/assets/colab-badge.svg\" alt=\"Open In Colab\"/></a>"
      ]
    },
    {
      "cell_type": "markdown",
      "source": [
        "Classes with Multiple Objects"
      ],
      "metadata": {
        "id": "Bd5uzhuVMYxg"
      }
    },
    {
      "cell_type": "code",
      "execution_count": null,
      "metadata": {
        "colab": {
          "base_uri": "https://localhost:8080/"
        },
        "id": "nXKWidLmJ-nM",
        "outputId": "f38b8fde-d301-4129-90e3-d4aed5566a7f"
      },
      "outputs": [
        {
          "output_type": "stream",
          "name": "stdout",
          "text": [
            "Griffon Vulture flies above the sky\n",
            "Common Crane flies above the sky\n",
            "Emu is the national bird of Australia\n"
          ]
        }
      ],
      "source": [
        "class Birds:\n",
        "  def __init__(self,birds_name):\n",
        "    self.birds_name = birds_name\n",
        "  def flying_birds(self):\n",
        "    print(f\"{self.birds_name} flies above the sky\")\n",
        "  def non_flying_birds(self):\n",
        "    print(f\"{self.birds_name} is the national bird of Australia\")\n",
        "\n",
        "vulture = Birds(\"Griffon Vulture\")\n",
        "crane = Birds(\"Common Crane\")\n",
        "emu = Birds(\"Emu\")\n",
        "\n",
        "vulture.flying_birds()\n",
        "crane.flying_birds()\n",
        "emu.non_flying_birds()"
      ]
    },
    {
      "cell_type": "markdown",
      "source": [
        "Encapsulation (mangling with double underscore)"
      ],
      "metadata": {
        "id": "Drm3HR0qPVl0"
      }
    },
    {
      "cell_type": "code",
      "source": [
        "class foo:\n",
        "  def __init__(self, a, b):\n",
        "    self.__a = a    #mangling\n",
        "    self.__b = b\n",
        "\n",
        "  def add(self):\n",
        "    return self.__a + self.__b\n",
        "\n",
        "object_foo = foo(3,4)\n",
        "object_foo.add()\n",
        "\n",
        "object_foo.__a = 6\n",
        "object_foo.__b = 7\n",
        "object_foo.add()"
      ],
      "metadata": {
        "colab": {
          "base_uri": "https://localhost:8080/"
        },
        "id": "4dvPp0Q3OerP",
        "outputId": "d2a0e0b6-b43b-4166-8bbe-1333d1de4b46"
      },
      "execution_count": null,
      "outputs": [
        {
          "output_type": "execute_result",
          "data": {
            "text/plain": [
              "7"
            ]
          },
          "metadata": {},
          "execution_count": 12
        }
      ]
    },
    {
      "cell_type": "code",
      "source": [
        "class Counter:\n",
        "    def __init__(self):\n",
        "        self.__current = 0\n",
        "    def increment(self):\n",
        "        self.__current+=1\n",
        "    def value(self):\n",
        "        return self.__current\n",
        "    def reset(self):\n",
        "        self.__current = 0\n",
        "\n",
        "number = Counter()\n",
        "number.__current = 1    #this doesn't work because of Encapsulation\n",
        "\n",
        "number.increment()\n",
        "number.increment()\n",
        "number.increment()\n",
        "\n",
        "print(number.value())"
      ],
      "metadata": {
        "colab": {
          "base_uri": "https://localhost:8080/"
        },
        "id": "eoBG4qn5RtBb",
        "outputId": "b15d6609-387a-4eb4-834f-02b34dd57860"
      },
      "execution_count": null,
      "outputs": [
        {
          "output_type": "stream",
          "name": "stdout",
          "text": [
            "3\n"
          ]
        }
      ]
    },
    {
      "cell_type": "markdown",
      "source": [
        "Inheritance"
      ],
      "metadata": {
        "id": "nXbrN3TdU-Ld"
      }
    },
    {
      "cell_type": "code",
      "source": [
        "class Person:\n",
        "  def __init__(self, firstname, surname):\n",
        "    self.firstname = firstname\n",
        "    self.surname = surname\n",
        "  def fullname(self):\n",
        "    print(self.firstname, self.surname)\n",
        "  \n",
        "person = Person(\"Mam\", \"Sayo\")\n",
        "person.fullname()\n",
        "\n",
        "class Teacher(Person):\n",
        "  pass\n",
        "\n",
        "person2 = Teacher(\"Maam\", \"Sayo\")\n",
        "person2.fullname()\n",
        "\n",
        "class Student(Person):\n",
        "  pass\n",
        "\n",
        "person3 = Student(\"Lance\", \"Alcala\")\n",
        "person3.fullname()"
      ],
      "metadata": {
        "colab": {
          "base_uri": "https://localhost:8080/"
        },
        "id": "HqDtIbduVBD5",
        "outputId": "6d0eae1b-2329-4375-992d-13a0888f0f76"
      },
      "execution_count": null,
      "outputs": [
        {
          "output_type": "stream",
          "name": "stdout",
          "text": [
            "Mam Sayo\n",
            "Maam Sayo\n",
            "Lance Alcala\n"
          ]
        }
      ]
    },
    {
      "cell_type": "markdown",
      "source": [
        "Polymorphism"
      ],
      "metadata": {
        "id": "OgDRPJ5WXdRW"
      }
    },
    {
      "cell_type": "code",
      "source": [
        "class RegularPolygon:\n",
        "  def __init__(self, side):\n",
        "    self.side = side\n",
        "\n",
        "class Square(RegularPolygon):\n",
        "  def area(self):\n",
        "    return self.side * self.side\n",
        "\n",
        "class EquilateralTriangle(RegularPolygon):\n",
        "  def area(self):\n",
        "    return self.side * self.side * 0.433\n",
        "\n",
        "obj1 = Square(4)\n",
        "#obj1.area()\n",
        "print(obj1.area())\n",
        "\n",
        "obj2 = EquilateralTriangle(3)\n",
        "#obj2.area()\n",
        "print(obj2.area())"
      ],
      "metadata": {
        "colab": {
          "base_uri": "https://localhost:8080/"
        },
        "id": "FQjrH9mnXe-m",
        "outputId": "b6c92192-dcda-4110-bdc1-5f2f7ac8b677"
      },
      "execution_count": null,
      "outputs": [
        {
          "output_type": "stream",
          "name": "stdout",
          "text": [
            "16\n",
            "3.897\n"
          ]
        }
      ]
    },
    {
      "cell_type": "markdown",
      "source": [
        "Application 1\n",
        "1. Create a Python program that displays the name of three students (Student 1, Student 2, and Student 3) and their term grades.\n",
        "2. Create a class name Person and attributes - std1, std2, std3, pre, mid, fin.\n",
        "3. Compute the average of each term grade using Grade () method.\n",
        "4. Information about student's grades must be hidden from others."
      ],
      "metadata": {
        "id": "WYLXRW8aZLms"
      }
    },
    {
      "cell_type": "code",
      "source": [
        "import math\n",
        "\n",
        "class Person:\n",
        "  def __init__(self, std1, std2, std3, pre, mid, fin):\n",
        "    self.__std1 = std1\n",
        "    self.__std2 = std2\n",
        "    self.__std3 = std3\n",
        "    self.__pre = pre\n",
        "    self.__mid = mid\n",
        "    self.__fin = fin\n",
        "\n",
        "class Student1(Person):\n",
        "  def __init__(self, std1, pre, mid, fin):\n",
        "    self.__std1 = \"Student 1\"\n",
        "    self.__pre = 99\n",
        "    self.__mid = 98\n",
        "    self.__fin = 99\n",
        "  def Grade(self):\n",
        "    return (round(((self.__pre + self.__mid + self.__fin)/3), 2))\n",
        "  def info1(self):\n",
        "    print(self.__std1, std1.Grade())\n",
        "\n",
        "class Student2(Person):\n",
        "  def __init__(self, std2, pre, mid, fin):\n",
        "    self.__std2 = \"Student 2\"\n",
        "    self.__pre = 98\n",
        "    self.__mid = 99\n",
        "    self.__fin = 98\n",
        "  def Grade(self):\n",
        "    return (round(((self.__pre + self.__mid + self.__fin)/3), 2))\n",
        "  def info2(self):\n",
        "    print(self.__std2, std2.Grade())\n",
        "\n",
        "class Student3(Person):\n",
        "  def __init__(self, std3, pre, mid, fin):\n",
        "    self.__std3 = \"Student 3\"\n",
        "    self.__pre = 98\n",
        "    self.__mid = 97\n",
        "    self.__fin = 98\n",
        "  def Grade(self):\n",
        "    return (round(((self.__pre + self.__mid + self.__fin)/3), 2))\n",
        "  def info3(self):\n",
        "    print(self.__std3, std3.Grade())\n",
        "\n",
        "std1 = Student1(\"Franz Louise Gloriani\", 99, 98, 99)\n",
        "std1.info1()\n",
        "std2 = Student2(\"Peter Parker\", 98, 99, 98)\n",
        "std2.info2()\n",
        "std3 = Student3(\"Tony Stark\", 98, 97, 98)\n",
        "std3.info3()"
      ],
      "metadata": {
        "id": "9pM-jVrLZdyI",
        "colab": {
          "base_uri": "https://localhost:8080/"
        },
        "outputId": "be252dee-601d-4e5d-952b-d44bbc9c8d3b"
      },
      "execution_count": 308,
      "outputs": [
        {
          "output_type": "stream",
          "name": "stdout",
          "text": [
            "Student 1 98.67\n",
            "Student 2 98.33\n",
            "Student 3 97.67\n"
          ]
        }
      ]
    }
  ]
}