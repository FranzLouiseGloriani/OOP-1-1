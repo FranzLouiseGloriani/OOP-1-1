{
  "nbformat": 4,
  "nbformat_minor": 0,
  "metadata": {
    "colab": {
      "name": "Midterm Exam.ipynb",
      "provenance": [],
      "collapsed_sections": [],
      "authorship_tag": "ABX9TyNLGT3Dcq/1OyjGUjoPNpd5",
      "include_colab_link": true
    },
    "kernelspec": {
      "name": "python3",
      "display_name": "Python 3"
    },
    "language_info": {
      "name": "python"
    }
  },
  "cells": [
    {
      "cell_type": "markdown",
      "metadata": {
        "id": "view-in-github",
        "colab_type": "text"
      },
      "source": [
        "<a href=\"https://colab.research.google.com/github/FranzLouiseGloriani/OOP-1-1/blob/main/Midterm_Exam.ipynb\" target=\"_parent\"><img src=\"https://colab.research.google.com/assets/colab-badge.svg\" alt=\"Open In Colab\"/></a>"
      ]
    },
    {
      "cell_type": "markdown",
      "source": [
        "Program 1: Modify the program below by adding two conversion methods - Fahrenheit to Celsius and Kelvin to Celsius (50 points)\n"
      ],
      "metadata": {
        "id": "LeoZjDxjHdKc"
      }
    },
    {
      "cell_type": "code",
      "source": [
        "import math\n",
        "\n",
        "def main():\n",
        " class TemperatureConversion:\n",
        "  def __init__(self, temp=1):\n",
        "   self._temp = temp\n",
        " class CelsiusToFahrenheit(TemperatureConversion):\n",
        "  def conversion(self):\n",
        "   return round(((self._temp * 9) / 5 + 32), 2)\n",
        " class CelsiusToKelvin(TemperatureConversion):\n",
        "  def conversion(self):\n",
        "   return round((self._temp + 273.15), 2)\n",
        " class FarenheitToCelsius(TemperatureConversion):\n",
        "  def conversion(self):\n",
        "   return round((self._temp - 32) * (5/9), 2)\n",
        " class KelvinToCelsius(TemperatureConversion):\n",
        "  def conversion(self):\n",
        "   return round((self._temp - 273.15), 2)\n",
        "\n",
        "\n",
        " tempInCelsius = float(input(\"Enter the temperature in Celsius: \"))\n",
        " convert = CelsiusToKelvin(tempInCelsius)\n",
        " print(str(convert.conversion()) + \" Kelvin\")\n",
        " convert = CelsiusToFahrenheit(tempInCelsius)\n",
        " print(str(convert.conversion()) + \" Fahrenheit\")\n",
        "\n",
        " tempInFarenheit = float(input(\"Enter the temperature in Farenheit: \"))\n",
        " convert = FarenheitToCelsius(tempInFarenheit)\n",
        " print(str(convert.conversion()) + \" Celsius\")\n",
        "\n",
        " tempInKelvin = float(input(\"Enter the temperature in Kelvin: \"))\n",
        " convert = KelvinToCelsius(tempInKelvin)\n",
        " print(str(convert.conversion()) + \" Celsius\")\n",
        "\n",
        "main()"
      ],
      "metadata": {
        "colab": {
          "base_uri": "https://localhost:8080/"
        },
        "id": "kXFkrGBgHeOy",
        "outputId": "9632c236-d0df-4a07-d876-49292a0c26f9"
      },
      "execution_count": 11,
      "outputs": [
        {
          "output_type": "stream",
          "name": "stdout",
          "text": [
            "Enter the temperature in Celsius: 100\n",
            "373.15 Kelvin\n",
            "212.0 Fahrenheit\n",
            "Enter the temperature in Farenheit: 100\n",
            "37.78 Celsius\n",
            "Enter the temperature in Kelvin: 100\n",
            "-173.15 Celsius\n"
          ]
        }
      ]
    },
    {
      "cell_type": "markdown",
      "source": [
        "Program 2. Create a program to produce the interface. After typing the name in the first text field, click the button to display the name to another text field. (Hint: See the figures.  - 50 points)\n"
      ],
      "metadata": {
        "id": "fh2B5owDHkFm"
      }
    },
    {
      "cell_type": "code",
      "source": [
        "from tkinter import *\n",
        "window = Tk()\n",
        "\n",
        "def fullname():\n",
        "    full_name = txtfld.get()\n",
        "    txtfld2.insert(END, full_name)\n",
        "\n",
        "window.geometry(\"540x270\")\n",
        "window.title(\"Midterm in OOP\")\n",
        "\n",
        "lbl = Label(window, text=\"Enter your fullname:\", fg=\"Red\", font=(\"arial\", 8))\n",
        "lbl.place(x=45, y=85)\n",
        "\n",
        "txtfld = Entry(window, bd=5, font=13)\n",
        "txtfld.place(x=270, y=85)\n",
        "txtfld2 = Entry(window, bd=5, font=13)\n",
        "txtfld2.place(x=270, y=130)\n",
        "\n",
        "btn = Button(window, text=\"Click to display your Fullname\", fg=\"Red\", font=(\"arial\", 8), command=fullname)\n",
        "btn.place(x=45, y=130)\n",
        "\n",
        "window.mainloop()\n"
      ],
      "metadata": {
        "id": "9pl_i4vAZaC7"
      },
      "execution_count": null,
      "outputs": []
    }
  ]
}