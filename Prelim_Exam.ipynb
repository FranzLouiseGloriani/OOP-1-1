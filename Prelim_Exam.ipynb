{
  "nbformat": 4,
  "nbformat_minor": 0,
  "metadata": {
    "colab": {
      "name": "Prelim Exam.ipynb",
      "provenance": [],
      "collapsed_sections": [],
      "authorship_tag": "ABX9TyM5an6GGQgtVgBAu8poJZNJ",
      "include_colab_link": true
    },
    "kernelspec": {
      "name": "python3",
      "display_name": "Python 3"
    },
    "language_info": {
      "name": "python"
    }
  },
  "cells": [
    {
      "cell_type": "markdown",
      "metadata": {
        "id": "view-in-github",
        "colab_type": "text"
      },
      "source": [
        "<a href=\"https://colab.research.google.com/github/FranzLouiseGloriani/OOP-1-1/blob/main/Prelim_Exam.ipynb\" target=\"_parent\"><img src=\"https://colab.research.google.com/assets/colab-badge.svg\" alt=\"Open In Colab\"/></a>"
      ]
    },
    {
      "cell_type": "markdown",
      "source": [
        "Problem 1. Examine the program below and create an appropriate flowchart (50 points)"
      ],
      "metadata": {
        "id": "qgSPyDCD4RVC"
      }
    },
    {
      "cell_type": "code",
      "execution_count": 23,
      "metadata": {
        "colab": {
          "base_uri": "https://localhost:8080/"
        },
        "id": "EKWL3R2V4C-x",
        "outputId": "9e2612fc-952a-42a3-dfc8-3dec31787e21"
      },
      "outputs": [
        {
          "output_type": "stream",
          "name": "stdout",
          "text": [
            "sum = 210\n",
            "Average = 10.5\n"
          ]
        }
      ],
      "source": [
        "n = 20\n",
        "total_numbers = n\n",
        "sum = 0\n",
        "while n >= 0:\n",
        "  sum += n\n",
        "  n -= 1\n",
        "\n",
        "print(\"sum =\", sum)\n",
        "\n",
        "average = sum / total_numbers\n",
        "\n",
        "print(\"Average =\", average)"
      ]
    },
    {
      "cell_type": "markdown",
      "source": [
        "Problem 2.\n",
        "1. Write a Python to display your full name, student number, age, and course\n",
        "2. Create a class named Student with attributes: Name, Student_No, Age, School, and Course\n",
        "3. Create an object named Myself and assign an instance for each attribute.\n",
        "4. Create a method Info() using an instantiation of a class.\n",
        "5. Insert your GitHub link \"Prelim Exam\" from your repository named \"OOP 1-1\"\n"
      ],
      "metadata": {
        "id": "31a0_jHyAQDT"
      }
    },
    {
      "cell_type": "code",
      "source": [
        "class Student:\n",
        "  def __init__(self, Name, Student_No, Age, School, Course):\n",
        "    self.Name = Name\n",
        "    self.Student_No = Student_No\n",
        "    self.Age = Age\n",
        "    self.School = School\n",
        "    self.Course = Course\n",
        "  def info(self):\n",
        "    print(\"My Name is\", self.Name)\n",
        "    print(\"My Student Number is\", self.Student_No)\n",
        "    print(\"My Age is\", self.Age)\n",
        "    print(\"My School is\", self.Course)\n",
        "\n",
        "Myself = Student(\"Franz Louise B. Gloriani\", 202101633, 19, \"Cavite State Univeristy\", \"Bachelor of Science in Computer Engineering\")\n",
        "\n",
        "Myself.info()"
      ],
      "metadata": {
        "colab": {
          "base_uri": "https://localhost:8080/"
        },
        "id": "MjHtcZDvAWBP",
        "outputId": "d0d943fc-150d-41a0-eca3-279cb593c88a"
      },
      "execution_count": 25,
      "outputs": [
        {
          "output_type": "stream",
          "name": "stdout",
          "text": [
            "My Name is Franz Louise B. Gloriani\n",
            "My Student Number is 202101633\n",
            "My Age is 19\n",
            "My School is Bachelor of Science in Computer Engineering\n"
          ]
        }
      ]
    }
  ]
}