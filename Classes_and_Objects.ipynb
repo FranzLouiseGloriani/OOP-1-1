{
  "nbformat": 4,
  "nbformat_minor": 0,
  "metadata": {
    "colab": {
      "name": "Classes and Objects.ipynb",
      "provenance": [],
      "collapsed_sections": [],
      "authorship_tag": "ABX9TyNZQNo6c7nyQ3H4PIb4J5LV",
      "include_colab_link": true
    },
    "kernelspec": {
      "name": "python3",
      "display_name": "Python 3"
    },
    "language_info": {
      "name": "python"
    }
  },
  "cells": [
    {
      "cell_type": "markdown",
      "metadata": {
        "id": "view-in-github",
        "colab_type": "text"
      },
      "source": [
        "<a href=\"https://colab.research.google.com/github/FranzLouiseGloriani/OOP-1-1/blob/main/Classes_and_Objects.ipynb\" target=\"_parent\"><img src=\"https://colab.research.google.com/assets/colab-badge.svg\" alt=\"Open In Colab\"/></a>"
      ]
    },
    {
      "cell_type": "markdown",
      "source": [
        "Application 2 - Write a python program that displays the fullname of student, student number, age, course, and school. Create a class name OOP_1_1 info() method to display the information of a student with fullname, student_no, age, course, school as attributes."
      ],
      "metadata": {
        "id": "eYxZTHGE1ov6"
      }
    },
    {
      "cell_type": "code",
      "source": [
        "class OOP_1_1:\n",
        "  def __init__(self, fullname, student_no, age, course, school):\n",
        "    self.fullname = fullname               \n",
        "    self.student_no = student_no\n",
        "    self.age = age\n",
        "    self.course = course\n",
        "    self.school = school\n",
        "\n",
        "  def info(self):\n",
        "    print(self.fullname, self.student_no, self.age, self.course, self.school)\n",
        "    print(\"My Name is\", self.fullname)\n",
        "    print(\"My Student Number is\", self.student_no)\n",
        "    print(\"My Age is\", self.age)\n",
        "    print(\"My Course is\", self.course)\n",
        "    print(\"My School is\", self.school)\n",
        "\n",
        "person = OOP_1_1(\"Franz Louise B. Gloriani\", 202101633, 19, \"Bachelor of Science in Computer Engineering\", \"Cavite State University\")    #create an object name\n",
        "\n",
        "print(person.fullname)\n",
        "print(person.student_no)\n",
        "print(person.age)\n",
        "print(person.course)\n",
        "print(person.school)\n",
        "\n",
        "person.info()"
      ],
      "metadata": {
        "colab": {
          "base_uri": "https://localhost:8080/"
        },
        "id": "ly6JBG-11227",
        "outputId": "80282ab3-ee4e-4753-e48c-5abcd626ce3f"
      },
      "execution_count": 5,
      "outputs": [
        {
          "output_type": "stream",
          "name": "stdout",
          "text": [
            "Franz Louise B. Gloriani\n",
            "202101633\n",
            "19\n",
            "Bachelor of Science in Computer Engineering\n",
            "Cavite State University\n",
            "Franz Louise B. Gloriani 202101633 19 Bachelor of Science in Computer Engineering Cavite State University\n",
            "My Name is Franz Louise B. Gloriani\n",
            "My Student Number is 202101633\n",
            "My Age is 19\n",
            "My Course is Bachelor of Science in Computer Engineering\n",
            "My School is Cavite State University\n"
          ]
        }
      ]
    }
  ]
}